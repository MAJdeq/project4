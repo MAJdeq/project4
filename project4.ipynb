{
 "cells": [
  {
   "cell_type": "code",
   "execution_count": 96,
   "id": "35b3b1bf-93c9-46f6-b6a9-a7e44d8e1f4c",
   "metadata": {},
   "outputs": [
    {
     "name": "stdout",
     "output_type": "stream",
     "text": [
      "Precision Scores (10 iterations): [np.float64(0.4897959183673469), np.float64(0.37037037037037035), np.float64(0.4528301886792453), np.float64(0.625), np.float64(0.4166666666666667), np.float64(0.42424242424242425), np.float64(0.3448275862068966), np.float64(0.3333333333333333), np.float64(0.35714285714285715), np.float64(0.35)]\n",
      "Recall Scores (10 iterations): [np.float64(0.5217391304347826), np.float64(0.6451612903225806), np.float64(0.34782608695652173), np.float64(0.6521739130434783), np.float64(0.46511627906976744), np.float64(0.4), np.float64(0.45454545454545453), np.float64(0.42105263157894735), np.float64(0.5), np.float64(0.3684210526315789)]\n",
      "F1 Scores (10 iterations): [np.float64(0.5052631578947369), np.float64(0.47058823529411764), np.float64(0.39344262295081966), np.float64(0.6382978723404256), np.float64(0.43956043956043955), np.float64(0.4117647058823529), np.float64(0.39215686274509803), np.float64(0.37209302325581395), np.float64(0.4166666666666667), np.float64(0.358974358974359)]\n",
      "Mean F1 Score: 0.439880794556483\n"
     ]
    }
   ],
   "source": [
    "import pandas as pd\n",
    "import random\n",
    "from sklearn.neighbors import NearestNeighbors\n",
    "from sklearn.model_selection import train_test_split\n",
    "from sklearn.metrics import precision_recall_fscore_support\n",
    "\n",
    "def knearestneighbors(file, k, attributes):\n",
    "    # Load and preprocess the data\n",
    "    df = pd.read_csv(file)\n",
    "    df = df.rename({'num': 'disease'}, axis=1)\n",
    "    df['disease'] = df['disease'].apply(lambda x: min(x, 1))\n",
    "\n",
    "    # Select features and target\n",
    "    X = df[attributes].values\n",
    "    y = df['disease'].values\n",
    "    \n",
    "    # Initialize Nearest Neighbors model\n",
    "    nn = NearestNeighbors(n_neighbors=k, metric='euclidean', algorithm='auto')\n",
    "\n",
    "    # Track precision, recall, and F1 scores for 10 iterations\n",
    "    test_sizes = [0.1, 0.15, 0.2, 0.25, 0.3, 0.33, 0.4, 0.45, 0.5, 0.6]\n",
    "    precision_scores = []\n",
    "    recall_scores = []\n",
    "    f1_scores = []\n",
    "    \n",
    "    for _ in range(10):  # 10 iterations\n",
    "        # Randomly choose a test size and perform train-test split\n",
    "        test_size = random.choice(test_sizes)\n",
    "        X_train, X_test, y_train, y_test = train_test_split(X, y, test_size=test_size, random_state=random.randint(1, 100))\n",
    "\n",
    "        # Fit the Nearest Neighbors model on the training set\n",
    "        nn.fit(X_train)\n",
    "\n",
    "        # Store predictions for the test set\n",
    "        y_pred = []\n",
    "        for test_point in X_test:\n",
    "            distances, indices = nn.kneighbors([test_point])\n",
    "            nbrs = df.iloc[indices[0]]\n",
    "\n",
    "            # Get the majority class among the k-nearest neighbors\n",
    "            healthy = nbrs[nbrs['disease'] == 0].count().disease\n",
    "            sick = nbrs[nbrs['disease'] == 1].count().disease\n",
    "            predict = 0 if (healthy > sick) else 1\n",
    "            y_pred.append(predict)\n",
    "\n",
    "        # Evaluate the predictions: precision, recall, F1 score\n",
    "        precision, recall, f1, _ = precision_recall_fscore_support(y_test, y_pred, average='binary')\n",
    "        precision_scores.append(precision)\n",
    "        recall_scores.append(recall)\n",
    "        f1_scores.append(f1)\n",
    "    \n",
    "    # Report the results\n",
    "    print(\"Precision Scores (10 iterations):\", precision_scores)\n",
    "    print(\"Recall Scores (10 iterations):\", recall_scores)\n",
    "    print(\"F1 Scores (10 iterations):\", f1_scores)\n",
    "    print(\"Mean F1 Score:\", sum(f1_scores) / len(f1_scores))\n",
    "\n",
    "\n",
    "# Call the function\n",
    "knearestneighbors('cleveland.csv', 10, ['age', 'trestbps', 'chol', 'thalach'])\n"
   ]
  },
  {
   "cell_type": "code",
   "execution_count": null,
   "id": "0db4f7cb-3d58-4514-a3d8-2391765c959a",
   "metadata": {},
   "outputs": [],
   "source": []
  },
  {
   "cell_type": "code",
   "execution_count": null,
   "id": "a379ca8e-bcc0-4b20-93fb-6fb9c9adc4ee",
   "metadata": {},
   "outputs": [],
   "source": []
  }
 ],
 "metadata": {
  "kernelspec": {
   "display_name": "Python 3 (ipykernel)",
   "language": "python",
   "name": "python3"
  },
  "language_info": {
   "codemirror_mode": {
    "name": "ipython",
    "version": 3
   },
   "file_extension": ".py",
   "mimetype": "text/x-python",
   "name": "python",
   "nbconvert_exporter": "python",
   "pygments_lexer": "ipython3",
   "version": "3.12.6"
  }
 },
 "nbformat": 4,
 "nbformat_minor": 5
}
