{
 "cells": [
  {
   "cell_type": "code",
   "execution_count": 21,
   "id": "35b3b1bf-93c9-46f6-b6a9-a7e44d8e1f4c",
   "metadata": {},
   "outputs": [],
   "source": [
    "import pandas as pd\n",
    "import random\n",
    "import matplotlib.pyplot as plt\n",
    "from sklearn.neighbors import NearestNeighbors\n",
    "from sklearn.model_selection import train_test_split\n",
    "from sklearn.metrics import precision_recall_fscore_support\n",
    "from sklearn.preprocessing import StandardScaler\n",
    "\n",
    "def knearestneighbors(df, k, attributes):\n",
    "\n",
    "    # Select features and target\n",
    "    X = df[attributes].values\n",
    "    y = df['disease'].values\n",
    "    \n",
    "    # Initialize Nearest Neighbors model\n",
    "    nn = NearestNeighbors(n_neighbors=k, metric='euclidean', algorithm='auto')\n",
    "\n",
    "    # Track precision, recall, and F1 scores for 10 iterations\n",
    "    test_sizes = [0.1, 0.15, 0.2, 0.25, 0.3, 0.33, 0.4, 0.45, 0.5, 0.6]\n",
    "    precision_scores = []\n",
    "    recall_scores = []\n",
    "    f1_scores = []\n",
    "    \n",
    "    for _ in range(10):  # 10 iterations\n",
    "        # Randomly choose a test size and perform train-test split\n",
    "        test_size = random.choice(test_sizes)\n",
    "        X_train, X_test, y_train, y_test = train_test_split(X, y, test_size=test_size, random_state=42)\n",
    "\n",
    "        # Fit the Nearest Neighbors model on the training set\n",
    "        nn.fit(X_train)\n",
    "\n",
    "        # Store predictions for the test set\n",
    "        y_pred = []\n",
    "        for test_point in X_test:\n",
    "            distances, indices = nn.kneighbors([test_point])\n",
    "            nbrs = df.iloc[indices[0]]\n",
    "\n",
    "            # Get the majority class among the k-nearest neighbors\n",
    "            healthy = nbrs[nbrs['disease'] == 0].count().disease\n",
    "            sick = nbrs[nbrs['disease'] == 1].count().disease\n",
    "            predict = 0 if (healthy > sick) else 1\n",
    "            y_pred.append(predict)\n",
    "\n",
    "        # Evaluate the predictions: precision, recall, F1 score\n",
    "        precision, recall, f1, _ = precision_recall_fscore_support(y_test, y_pred, average='binary')\n",
    "        precision_scores.append(precision)\n",
    "        recall_scores.append(recall)\n",
    "        f1_scores.append(f1)\n",
    "\n",
    "\n",
    "    for i, precision in enumerate(precision_scores):\n",
    "        print(f\"Iteration: {i + 1}\")  # Start iteration count from 1 instead of 0\n",
    "        print(f\"Precision Score: {precision_scores[i]}\")\n",
    "        print(f\"Recall Score: {recall_scores[i]}\")\n",
    "        print(f\"F1 Score: {f1_scores[i]}\")\n",
    "        print()\n",
    "    print(\"Mean F1 Score:\", sum(f1_scores) / len(f1_scores))\n"
   ]
  },
  {
   "cell_type": "markdown",
   "id": "44fcd5de",
   "metadata": {},
   "source": [
    "## Part I"
   ]
  },
  {
   "cell_type": "markdown",
   "id": "9c259e2a",
   "metadata": {},
   "source": [
    "First, we needed to determine the optimal value of k for this dataset. We did this using the elbow method."
   ]
  },
  {
   "cell_type": "code",
   "execution_count": 22,
   "id": "e8832269",
   "metadata": {},
   "outputs": [],
   "source": [
    "def get_scores(k, df):\n",
    "  # Use knn on age. First create a nearest neighbors object.\n",
    "  nn = NearestNeighbors(n_neighbors=k, metric='euclidean', algorithm='auto')\n",
    "\n",
    "  # This builds an index data structure under the hood for query performance\n",
    "  X = df[['age_s', 'trestbps_s']].values\n",
    "  fit = nn.fit(X)\n",
    "\n",
    "  # Get random patients to test on\n",
    "  n = 50\n",
    "  patients = df.sample(n)\n",
    "  patientsX = patients[['age_s','trestbps_s']].values\n",
    "  patientsy = patients[['disease']].values\n",
    "  # display(patients)\n",
    "\n",
    "  # Find the k nearest neighbors to the patient.\n",
    "  distances, indices = fit.kneighbors(patientsX)\n",
    "\n",
    "  y_pred = []\n",
    "  for i in range(n):\n",
    "      nbrs = df.iloc[indices[i]]\n",
    "      # Drop the patient of interest\n",
    "      nbrs = nbrs.drop(patients.index[i], errors='ignore')\n",
    "\n",
    "      healthy = nbrs[nbrs.disease == 0].count().disease\n",
    "      sick = nbrs[nbrs.disease == 1].count().disease\n",
    "      predict = 0 if (healthy > sick) else 1\n",
    "      y_pred.append(predict)\n",
    "\n",
    "  return precision_recall_fscore_support(patientsy, y_pred, labels=[1])\n",
    "\n",
    "def determine_k(file):\n",
    "  df = pd.read_csv(file)\n",
    "  df['disease'] = df.num.apply(lambda x: min(x,1))\n",
    "  df['age_s'] = (df.age - df.age.mean())/df.age.std()\n",
    "  df['trestbps_s'] = (df.trestbps - df.trestbps.mean())/df.trestbps.std()\n",
    "\n",
    "  kvals = range(2, 250)\n",
    "  scores = [get_scores(k, df) for k in kvals]\n",
    "  scores = [(p[0], r[0], f[0], s[0]) for (p,r,f,s) in scores]\n",
    "  scores = list(zip(*scores))\n",
    "\n",
    "  k_options = pd.DataFrame(\n",
    "    {'f score': scores[2],\n",
    "     'k': kvals\n",
    "    })\n",
    "\n",
    "  k_options = k_options.sort_values(by='f score', ascending=False)\n",
    "\n",
    "  return (kvals, scores[2], k_options)"
   ]
  },
  {
   "cell_type": "code",
   "execution_count": 23,
   "id": "590339d8",
   "metadata": {},
   "outputs": [
    {
     "name": "stderr",
     "output_type": "stream",
     "text": [
      "/opt/homebrew/Cellar/jupyterlab/4.2.5_1/libexec/lib/python3.12/site-packages/sklearn/metrics/_classification.py:1531: UndefinedMetricWarning: Precision is ill-defined and being set to 0.0 due to no predicted samples. Use `zero_division` parameter to control this behavior.\n",
      "  _warn_prf(average, modifier, f\"{metric.capitalize()} is\", len(result))\n"
     ]
    },
    {
     "data": {
      "text/html": [
       "<div>\n",
       "<style scoped>\n",
       "    .dataframe tbody tr th:only-of-type {\n",
       "        vertical-align: middle;\n",
       "    }\n",
       "\n",
       "    .dataframe tbody tr th {\n",
       "        vertical-align: top;\n",
       "    }\n",
       "\n",
       "    .dataframe thead th {\n",
       "        text-align: right;\n",
       "    }\n",
       "</style>\n",
       "<table border=\"1\" class=\"dataframe\">\n",
       "  <thead>\n",
       "    <tr style=\"text-align: right;\">\n",
       "      <th></th>\n",
       "      <th>f score</th>\n",
       "      <th>k</th>\n",
       "    </tr>\n",
       "  </thead>\n",
       "  <tbody>\n",
       "    <tr>\n",
       "      <th>47</th>\n",
       "      <td>0.819672</td>\n",
       "      <td>49</td>\n",
       "    </tr>\n",
       "    <tr>\n",
       "      <th>36</th>\n",
       "      <td>0.754717</td>\n",
       "      <td>38</td>\n",
       "    </tr>\n",
       "    <tr>\n",
       "      <th>119</th>\n",
       "      <td>0.740741</td>\n",
       "      <td>121</td>\n",
       "    </tr>\n",
       "    <tr>\n",
       "      <th>105</th>\n",
       "      <td>0.727273</td>\n",
       "      <td>107</td>\n",
       "    </tr>\n",
       "    <tr>\n",
       "      <th>137</th>\n",
       "      <td>0.716981</td>\n",
       "      <td>139</td>\n",
       "    </tr>\n",
       "  </tbody>\n",
       "</table>\n",
       "</div>"
      ],
      "text/plain": [
       "      f score    k\n",
       "47   0.819672   49\n",
       "36   0.754717   38\n",
       "119  0.740741  121\n",
       "105  0.727273  107\n",
       "137  0.716981  139"
      ]
     },
     "execution_count": 23,
     "metadata": {},
     "output_type": "execute_result"
    }
   ],
   "source": [
    "result = determine_k('cleveland.csv')\n",
    "result[2].head()"
   ]
  },
  {
   "cell_type": "code",
   "execution_count": 24,
   "id": "deeb1fef",
   "metadata": {},
   "outputs": [
    {
     "data": {
      "text/plain": [
       "Text(0, 0.5, 'f score')"
      ]
     },
     "execution_count": 24,
     "metadata": {},
     "output_type": "execute_result"
    },
    {
     "data": {
      "image/png": "[encoded data removed]",
      "text/plain": [
       "<Figure size 640x480 with 1 Axes>"
      ]
     },
     "metadata": {},
     "output_type": "display_data"
    }
   ],
   "source": [
    "plt.plot(result[0], result[1])\n",
    "plt.xlabel('k')\n",
    "plt.ylabel('f score')"
   ]
  },
  {
   "cell_type": "markdown",
   "id": "388ebc3c",
   "metadata": {},
   "source": [
    "Now, we need to determine the optimal set of attributes to use.\n",
    "\n",
    "(TODO)"
   ]
  },
  {
   "cell_type": "markdown",
   "id": "3d143111",
   "metadata": {},
   "source": [
    "Now that we've determined the optimal k and set of attributes, we can use the k nearest neighbors method to predict whether patients have heart disease. We'll also evaluate our model."
   ]
  },
  {
   "cell_type": "code",
   "execution_count": 38,
   "id": "45a26423",
   "metadata": {},
   "outputs": [
    {
     "name": "stdout",
     "output_type": "stream",
     "text": [
      "Iteration: 1\n",
      "Precision Score: 0.5942028985507246\n",
      "Recall Score: 0.640625\n",
      "F1 Score: 0.6165413533834586\n",
      "\n",
      "Iteration: 2\n",
      "Precision Score: 0.5833333333333334\n",
      "Recall Score: 0.56\n",
      "F1 Score: 0.5714285714285714\n",
      "\n",
      "Iteration: 3\n",
      "Precision Score: 0.5\n",
      "Recall Score: 0.40625\n",
      "F1 Score: 0.4482758620689655\n",
      "\n",
      "Iteration: 4\n",
      "Precision Score: 0.5\n",
      "Recall Score: 0.5581395348837209\n",
      "F1 Score: 0.5274725274725275\n",
      "\n",
      "Iteration: 5\n",
      "Precision Score: 0.4\n",
      "Recall Score: 0.5301204819277109\n",
      "F1 Score: 0.45595854922279794\n",
      "\n",
      "Iteration: 6\n",
      "Precision Score: 0.5833333333333334\n",
      "Recall Score: 0.5675675675675675\n",
      "F1 Score: 0.5753424657534246\n",
      "\n",
      "Iteration: 7\n",
      "Precision Score: 0.46296296296296297\n",
      "Recall Score: 0.5102040816326531\n",
      "F1 Score: 0.4854368932038835\n",
      "\n",
      "Iteration: 8\n",
      "Precision Score: 0.5\n",
      "Recall Score: 0.40625\n",
      "F1 Score: 0.4482758620689655\n",
      "\n",
      "Iteration: 9\n",
      "Precision Score: 0.5833333333333334\n",
      "Recall Score: 0.56\n",
      "F1 Score: 0.5714285714285714\n",
      "\n",
      "Iteration: 10\n",
      "Precision Score: 0.45588235294117646\n",
      "Recall Score: 0.4305555555555556\n",
      "F1 Score: 0.44285714285714284\n",
      "\n",
      "Mean F1 Score: 0.5143017798888309\n"
     ]
    }
   ],
   "source": [
    "\n",
    "df = pd.read_csv('cleveland.csv')\n",
    "df = df.rename({'num': 'disease'}, axis=1)\n",
    "df['disease'] = df['disease'].apply(lambda x: min(x, 1))\n",
    "columns_to_standardize = ['age', 'trestbps', 'chol', 'thalach']\n",
    "scaler = StandardScaler()\n",
    "df[columns_to_standardize] = scaler.fit_transform(df[columns_to_standardize])\n",
    "knearestneighbors(df, 10, ['age', 'trestbps', 'chol', 'thalach'])"
   ]
  },
  {
   "cell_type": "markdown",
   "id": "5decec44",
   "metadata": {},
   "source": [
    "## Part II"
   ]
  },
  {
   "cell_type": "markdown",
   "id": "bbd646cc",
   "metadata": {},
   "source": [
    "Now, we will repeat the same process for our second data set. This data set contains information about urls and whether they are known to be phishing or legitimate. \n",
    "\n",
    "Source: https://archive.ics.uci.edu/dataset/967/phiusiil+phishing+url+dataset"
   ]
  }
 ],
 "metadata": {
  "kernelspec": {
   "display_name": "Python 3 (ipykernel)",
   "language": "python",
   "name": "python3"
  },
  "language_info": {
   "codemirror_mode": {
    "name": "ipython",
    "version": 3
   },
   "file_extension": ".py",
   "mimetype": "text/x-python",
   "name": "python",
   "nbconvert_exporter": "python",
   "pygments_lexer": "ipython3",
   "version": "3.12.6"
  }
 },
 "nbformat": 4,
 "nbformat_minor": 5
}
