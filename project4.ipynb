{
 "cells": [
  {
   "cell_type": "code",
   "execution_count": 93,
   "id": "35b3b1bf-93c9-46f6-b6a9-a7e44d8e1f4c",
   "metadata": {},
   "outputs": [
    {
     "name": "stdout",
     "output_type": "stream",
     "text": [
      "Precision Scores (10 iterations): [np.float64(0.47058823529411764), np.float64(0.5333333333333333), np.float64(0.3695652173913043), np.float64(0.5), np.float64(0.39285714285714285), np.float64(0.4666666666666667), np.float64(0.4444444444444444), np.float64(0.40350877192982454), np.float64(0.5), np.float64(0.4430379746835443)]\n",
      "Recall Scores (10 iterations): [np.float64(0.4), np.float64(0.6857142857142857), np.float64(0.3953488372093023), np.float64(0.417910447761194), np.float64(0.39285714285714285), np.float64(0.5833333333333334), np.float64(0.5333333333333333), np.float64(0.4423076923076923), np.float64(0.6190476190476191), np.float64(0.49295774647887325)]\n",
      "F1 Scores (10 iterations): [np.float64(0.43243243243243246), np.float64(0.6), np.float64(0.38202247191011235), np.float64(0.45528455284552843), np.float64(0.39285714285714285), np.float64(0.5185185185185185), np.float64(0.48484848484848486), np.float64(0.42201834862385323), np.float64(0.5531914893617021), np.float64(0.4666666666666667)]\n",
      "Mean F1 Score: 0.47078401080644416\n"
     ]
    }
   ],
   "source": [
    "import pandas as pd\n",
    "import random\n",
    "from sklearn.neighbors import NearestNeighbors\n",
    "from sklearn.model_selection import train_test_split\n",
    "from sklearn.metrics import precision_recall_fscore_support\n",
    "\n",
    "def knearestneighbors(file, k):\n",
    "    # Load and preprocess the data\n",
    "    df = pd.read_csv(file)\n",
    "    df = df.rename({'num': 'disease'}, axis=1)\n",
    "    df['disease'] = df['disease'].apply(lambda x: min(x, 1))  # Collapse values 1-4 to 1 (binary classification)\n",
    "\n",
    "    # Select features and target\n",
    "    X = df[['age', 'trestbps', 'chol', 'thalach']].values\n",
    "    y = df['disease'].values\n",
    "    \n",
    "    # Initialize Nearest Neighbors model\n",
    "    nn = NearestNeighbors(n_neighbors=k, metric='euclidean', algorithm='auto')\n",
    "\n",
    "    # Track precision, recall, and F1 scores for 10 iterations\n",
    "    test_sizes = [0.1, 0.15, 0.2, 0.25, 0.3, 0.33, 0.4, 0.45, 0.5, 0.6]\n",
    "    precision_scores = []\n",
    "    recall_scores = []\n",
    "    f1_scores = []\n",
    "    \n",
    "    for _ in range(10):  # 10 iterations\n",
    "        # Randomly choose a test size and perform train-test split\n",
    "        test_size = random.choice(test_sizes)\n",
    "        X_train, X_test, y_train, y_test = train_test_split(X, y, test_size=test_size, random_state=random.randint(1, 100))\n",
    "\n",
    "        # Fit the Nearest Neighbors model on the training set\n",
    "        nn.fit(X_train)\n",
    "\n",
    "        # Store predictions for the test set\n",
    "        y_pred = []\n",
    "        for test_point in X_test:\n",
    "            distances, indices = nn.kneighbors([test_point])\n",
    "            nbrs = df.iloc[indices[0]]\n",
    "\n",
    "            # Get the majority class among the k-nearest neighbors\n",
    "            healthy = nbrs[nbrs['disease'] == 0].count().disease\n",
    "            sick = nbrs[nbrs['disease'] == 1].count().disease\n",
    "            predict = 0 if (healthy > sick) else 1\n",
    "            y_pred.append(predict)\n",
    "\n",
    "        # Evaluate the predictions: precision, recall, F1 score\n",
    "        precision, recall, f1, _ = precision_recall_fscore_support(y_test, y_pred, average='binary')\n",
    "        precision_scores.append(precision)\n",
    "        recall_scores.append(recall)\n",
    "        f1_scores.append(f1)\n",
    "    \n",
    "    # Report the results\n",
    "    print(\"Precision Scores (10 iterations):\", precision_scores)\n",
    "    print(\"Recall Scores (10 iterations):\", recall_scores)\n",
    "    print(\"F1 Scores (10 iterations):\", f1_scores)\n",
    "    print(\"Mean F1 Score:\", sum(f1_scores) / len(f1_scores))\n",
    "\n",
    "\n",
    "# Call the function\n",
    "knearestneighbors('cleveland.csv', 10)\n"
   ]
  },
  {
   "cell_type": "code",
   "execution_count": null,
   "id": "0db4f7cb-3d58-4514-a3d8-2391765c959a",
   "metadata": {},
   "outputs": [],
   "source": []
  }
 ],
 "metadata": {
  "kernelspec": {
   "display_name": "Python 3 (ipykernel)",
   "language": "python",
   "name": "python3"
  },
  "language_info": {
   "codemirror_mode": {
    "name": "ipython",
    "version": 3
   },
   "file_extension": ".py",
   "mimetype": "text/x-python",
   "name": "python",
   "nbconvert_exporter": "python",
   "pygments_lexer": "ipython3",
   "version": "3.12.6"
  }
 },
 "nbformat": 4,
 "nbformat_minor": 5
}
