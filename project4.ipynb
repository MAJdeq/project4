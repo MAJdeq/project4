{
 "cells": [
  {
   "cell_type": "code",
   "execution_count": 102,
   "id": "35b3b1bf-93c9-46f6-b6a9-a7e44d8e1f4c",
   "metadata": {},
   "outputs": [
    {
     "name": "stdout",
     "output_type": "stream",
     "text": [
      "Precision Scores (10 iterations): [np.float64(0.3684210526315789), np.float64(0.6923076923076923), np.float64(0.5434782608695652), np.float64(0.4), np.float64(0.38461538461538464), np.float64(0.46875), np.float64(0.5555555555555556), np.float64(0.4666666666666667), np.float64(0.4772727272727273), np.float64(0.5416666666666666)]\n",
      "Recall Scores (10 iterations): [np.float64(0.4117647058823529), np.float64(0.5806451612903226), np.float64(0.6097560975609756), np.float64(0.43243243243243246), np.float64(0.21739130434782608), np.float64(0.5660377358490566), np.float64(0.42857142857142855), np.float64(0.4827586206896552), np.float64(0.5), np.float64(0.48148148148148145)]\n",
      "F1 Scores (10 iterations): [np.float64(0.3888888888888889), np.float64(0.631578947368421), np.float64(0.5747126436781609), np.float64(0.4155844155844156), np.float64(0.2777777777777778), np.float64(0.5128205128205128), np.float64(0.4838709677419355), np.float64(0.4745762711864407), np.float64(0.4883720930232558), np.float64(0.5098039215686274)]\n",
      "Mean F1 Score: 0.47579864396384364\n",
      "Iteration: 0.3684210526315789\n"
     ]
    },
    {
     "ename": "TypeError",
     "evalue": "list indices must be integers or slices, not numpy.float64",
     "output_type": "error",
     "traceback": [
      "\u001b[0;31m---------------------------------------------------------------------------\u001b[0m",
      "\u001b[0;31mTypeError\u001b[0m                                 Traceback (most recent call last)",
      "Cell \u001b[0;32mIn[102], line 66\u001b[0m\n\u001b[1;32m     62\u001b[0m         \u001b[38;5;28mprint\u001b[39m(\u001b[38;5;124mf\u001b[39m\u001b[38;5;124m\"\u001b[39m\u001b[38;5;124mF1 Score: \u001b[39m\u001b[38;5;132;01m{\u001b[39;00mf1_scores[i]\u001b[38;5;132;01m}\u001b[39;00m\u001b[38;5;124m\"\u001b[39m)\n\u001b[1;32m     65\u001b[0m \u001b[38;5;66;03m# Call the function\u001b[39;00m\n\u001b[0;32m---> 66\u001b[0m \u001b[43mknearestneighbors\u001b[49m\u001b[43m(\u001b[49m\u001b[38;5;124;43m'\u001b[39;49m\u001b[38;5;124;43mcleveland.csv\u001b[39;49m\u001b[38;5;124;43m'\u001b[39;49m\u001b[43m,\u001b[49m\u001b[43m \u001b[49m\u001b[38;5;241;43m10\u001b[39;49m\u001b[43m,\u001b[49m\u001b[43m \u001b[49m\u001b[43m[\u001b[49m\u001b[38;5;124;43m'\u001b[39;49m\u001b[38;5;124;43mage\u001b[39;49m\u001b[38;5;124;43m'\u001b[39;49m\u001b[43m,\u001b[49m\u001b[43m \u001b[49m\u001b[38;5;124;43m'\u001b[39;49m\u001b[38;5;124;43mtrestbps\u001b[39;49m\u001b[38;5;124;43m'\u001b[39;49m\u001b[43m,\u001b[49m\u001b[43m \u001b[49m\u001b[38;5;124;43m'\u001b[39;49m\u001b[38;5;124;43mchol\u001b[39;49m\u001b[38;5;124;43m'\u001b[39;49m\u001b[43m,\u001b[49m\u001b[43m \u001b[49m\u001b[38;5;124;43m'\u001b[39;49m\u001b[38;5;124;43mthalach\u001b[39;49m\u001b[38;5;124;43m'\u001b[39;49m\u001b[43m]\u001b[49m\u001b[43m)\u001b[49m\n",
      "Cell \u001b[0;32mIn[102], line 60\u001b[0m, in \u001b[0;36mknearestneighbors\u001b[0;34m(file, k, attributes)\u001b[0m\n\u001b[1;32m     58\u001b[0m \u001b[38;5;28;01mfor\u001b[39;00m i \u001b[38;5;129;01min\u001b[39;00m precision_scores:\n\u001b[1;32m     59\u001b[0m     \u001b[38;5;28mprint\u001b[39m(\u001b[38;5;124mf\u001b[39m\u001b[38;5;124m\"\u001b[39m\u001b[38;5;124mIteration: \u001b[39m\u001b[38;5;132;01m{\u001b[39;00mi\u001b[38;5;132;01m}\u001b[39;00m\u001b[38;5;124m\"\u001b[39m)\n\u001b[0;32m---> 60\u001b[0m     \u001b[38;5;28mprint\u001b[39m(\u001b[38;5;124mf\u001b[39m\u001b[38;5;124m\"\u001b[39m\u001b[38;5;124mPrecison Score: \u001b[39m\u001b[38;5;132;01m{\u001b[39;00m\u001b[43mprecision_scores\u001b[49m\u001b[43m[\u001b[49m\u001b[43mi\u001b[49m\u001b[43m]\u001b[49m\u001b[38;5;132;01m}\u001b[39;00m\u001b[38;5;124m\"\u001b[39m)\n\u001b[1;32m     61\u001b[0m     \u001b[38;5;28mprint\u001b[39m(\u001b[38;5;124mf\u001b[39m\u001b[38;5;124m\"\u001b[39m\u001b[38;5;124mRecall Score: \u001b[39m\u001b[38;5;132;01m{\u001b[39;00mrecall_scores[i]\u001b[38;5;132;01m}\u001b[39;00m\u001b[38;5;124m\"\u001b[39m)\n\u001b[1;32m     62\u001b[0m     \u001b[38;5;28mprint\u001b[39m(\u001b[38;5;124mf\u001b[39m\u001b[38;5;124m\"\u001b[39m\u001b[38;5;124mF1 Score: \u001b[39m\u001b[38;5;132;01m{\u001b[39;00mf1_scores[i]\u001b[38;5;132;01m}\u001b[39;00m\u001b[38;5;124m\"\u001b[39m)\n",
      "\u001b[0;31mTypeError\u001b[0m: list indices must be integers or slices, not numpy.float64"
     ]
    }
   ],
   "source": [
    "import pandas as pd\n",
    "import random\n",
    "from sklearn.neighbors import NearestNeighbors\n",
    "from sklearn.model_selection import train_test_split\n",
    "from sklearn.metrics import precision_recall_fscore_support\n",
    "\n",
    "def knearestneighbors(file, k, attributes):\n",
    "    # Load and preprocess the data\n",
    "    df = pd.read_csv(file)\n",
    "    df = df.rename({'num': 'disease'}, axis=1)\n",
    "    df['disease'] = df['disease'].apply(lambda x: min(x, 1))\n",
    "\n",
    "    # Select features and target\n",
    "    X = df[attributes].values\n",
    "    y = df['disease'].values\n",
    "    \n",
    "    # Initialize Nearest Neighbors model\n",
    "    nn = NearestNeighbors(n_neighbors=k, metric='euclidean', algorithm='auto')\n",
    "\n",
    "    # Track precision, recall, and F1 scores for 10 iterations\n",
    "    test_sizes = [0.1, 0.15, 0.2, 0.25, 0.3, 0.33, 0.4, 0.45, 0.5, 0.6]\n",
    "    precision_scores = []\n",
    "    recall_scores = []\n",
    "    f1_scores = []\n",
    "    \n",
    "    for _ in range(10):  # 10 iterations\n",
    "        # Randomly choose a test size and perform train-test split\n",
    "        test_size = random.choice(test_sizes)\n",
    "        X_train, X_test, y_train, y_test = train_test_split(X, y, test_size=test_size, random_state=random.randint(1, 100))\n",
    "\n",
    "        # Fit the Nearest Neighbors model on the training set\n",
    "        nn.fit(X_train)\n",
    "\n",
    "        # Store predictions for the test set\n",
    "        y_pred = []\n",
    "        for test_point in X_test:\n",
    "            distances, indices = nn.kneighbors([test_point])\n",
    "            nbrs = df.iloc[indices[0]]\n",
    "\n",
    "            # Get the majority class among the k-nearest neighbors\n",
    "            healthy = nbrs[nbrs['disease'] == 0].count().disease\n",
    "            sick = nbrs[nbrs['disease'] == 1].count().disease\n",
    "            predict = 0 if (healthy > sick) else 1\n",
    "            y_pred.append(predict)\n",
    "\n",
    "        # Evaluate the predictions: precision, recall, F1 score\n",
    "        precision, recall, f1, _ = precision_recall_fscore_support(y_test, y_pred, average='binary')\n",
    "        precision_scores.append(precision)\n",
    "        recall_scores.append(recall)\n",
    "        f1_scores.append(f1)\n",
    "\n",
    "    # Report the results\n",
    "    print(\"Precision Scores (10 iterations):\", precision_scores)\n",
    "    print(\"Recall Scores (10 iterations):\", recall_scores)\n",
    "    print(\"F1 Scores (10 iterations):\", f1_scores)\n",
    "    print(\"Mean F1 Score:\", sum(f1_scores) / len(f1_scores))\n",
    "\n",
    "    for i in precision_scores:\n",
    "        print(f\"Iteration: {i}\")\n",
    "        print(f\"Precison Score: {precision_scores[i]}\")\n",
    "        print(f\"Recall Score: {recall_scores[i]}\")\n",
    "        print(f\"F1 Score: {f1_scores[i]}\")\n",
    "\n",
    "\n",
    "# Call the function\n",
    "knearestneighbors('cleveland.csv', 10, ['age', 'trestbps', 'chol', 'thalach'])\n"
   ]
  },
  {
   "cell_type": "code",
   "execution_count": null,
   "id": "0db4f7cb-3d58-4514-a3d8-2391765c959a",
   "metadata": {},
   "outputs": [],
   "source": []
  },
  {
   "cell_type": "code",
   "execution_count": null,
   "id": "a379ca8e-bcc0-4b20-93fb-6fb9c9adc4ee",
   "metadata": {},
   "outputs": [],
   "source": []
  }
 ],
 "metadata": {
  "kernelspec": {
   "display_name": "Python 3 (ipykernel)",
   "language": "python",
   "name": "python3"
  },
  "language_info": {
   "codemirror_mode": {
    "name": "ipython",
    "version": 3
   },
   "file_extension": ".py",
   "mimetype": "text/x-python",
   "name": "python",
   "nbconvert_exporter": "python",
   "pygments_lexer": "ipython3",
   "version": "3.12.6"
  }
 },
 "nbformat": 4,
 "nbformat_minor": 5
}
